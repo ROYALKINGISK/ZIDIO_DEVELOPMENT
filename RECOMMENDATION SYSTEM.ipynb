{
  "cells": [
    {
      "cell_type": "code",
      "execution_count": null,
      "metadata": {
        "colab": {
          "base_uri": "https://localhost:8080/"
        },
        "id": "39mrxq9W38kb",
        "outputId": "87a82480-dab2-44eb-b6a5-8774f10761cf"
      },
      "outputs": [
        {
          "output_type": "stream",
          "name": "stdout",
          "text": [
            "  show_id     type                  title         director  \\\n",
            "0      s1    Movie   Dick Johnson Is Dead  Kirsten Johnson   \n",
            "1      s2  TV Show          Blood & Water              NaN   \n",
            "2      s3  TV Show              Ganglands  Julien Leclercq   \n",
            "3      s4  TV Show  Jailbirds New Orleans              NaN   \n",
            "4      s5  TV Show           Kota Factory              NaN   \n",
            "\n",
            "                                                cast        country  \\\n",
            "0                                                NaN  United States   \n",
            "1  Ama Qamata, Khosi Ngema, Gail Mabalane, Thaban...   South Africa   \n",
            "2  Sami Bouajila, Tracy Gotoas, Samuel Jouy, Nabi...            NaN   \n",
            "3                                                NaN            NaN   \n",
            "4  Mayur More, Jitendra Kumar, Ranjan Raj, Alam K...          India   \n",
            "\n",
            "           date_added  release_year rating   duration  \\\n",
            "0  September 25, 2021          2020  PG-13     90 min   \n",
            "1  September 24, 2021          2021  TV-MA  2 Seasons   \n",
            "2  September 24, 2021          2021  TV-MA   1 Season   \n",
            "3  September 24, 2021          2021  TV-MA   1 Season   \n",
            "4  September 24, 2021          2021  TV-MA  2 Seasons   \n",
            "\n",
            "                                           listed_in  \\\n",
            "0                                      Documentaries   \n",
            "1    International TV Shows, TV Dramas, TV Mysteries   \n",
            "2  Crime TV Shows, International TV Shows, TV Act...   \n",
            "3                             Docuseries, Reality TV   \n",
            "4  International TV Shows, Romantic TV Shows, TV ...   \n",
            "\n",
            "                                         description  \n",
            "0  As her father nears the end of his life, filmm...  \n",
            "1  After crossing paths at a party, a Cape Town t...  \n",
            "2  To protect his family from a powerful drug lor...  \n",
            "3  Feuds, flirtations and toilet talk go down amo...  \n",
            "4  In a city of coaching centers known to train I...  \n"
          ]
        }
      ],
      "source": [
        "import pandas as pd\n",
        "df = pd.read_csv('netflix_titles.csv')\n",
        "print(df.head())"
      ]
    },
    {
      "cell_type": "code",
      "execution_count": null,
      "metadata": {
        "colab": {
          "base_uri": "https://localhost:8080/"
        },
        "id": "-f_GCCq_7Cdl",
        "outputId": "4c81bde3-3596-4179-f5b1-72a24152ece5"
      },
      "outputs": [
        {
          "output_type": "stream",
          "name": "stdout",
          "text": [
            "Tail of the dataset:\n",
            "     show_id     type        title         director  \\\n",
            "8802   s8803    Movie       Zodiac    David Fincher   \n",
            "8803   s8804  TV Show  Zombie Dumb              NaN   \n",
            "8804   s8805    Movie   Zombieland  Ruben Fleischer   \n",
            "8805   s8806    Movie         Zoom     Peter Hewitt   \n",
            "8806   s8807    Movie       Zubaan      Mozez Singh   \n",
            "\n",
            "                                                   cast        country  \\\n",
            "8802  Mark Ruffalo, Jake Gyllenhaal, Robert Downey J...  United States   \n",
            "8803                                                NaN            NaN   \n",
            "8804  Jesse Eisenberg, Woody Harrelson, Emma Stone, ...  United States   \n",
            "8805  Tim Allen, Courteney Cox, Chevy Chase, Kate Ma...  United States   \n",
            "8806  Vicky Kaushal, Sarah-Jane Dias, Raaghav Chanan...          India   \n",
            "\n",
            "             date_added  release_year rating   duration  \\\n",
            "8802  November 20, 2019          2007      R    158 min   \n",
            "8803       July 1, 2019          2018  TV-Y7  2 Seasons   \n",
            "8804   November 1, 2019          2009      R     88 min   \n",
            "8805   January 11, 2020          2006     PG     88 min   \n",
            "8806      March 2, 2019          2015  TV-14    111 min   \n",
            "\n",
            "                                           listed_in  \\\n",
            "8802                  Cult Movies, Dramas, Thrillers   \n",
            "8803          Kids' TV, Korean TV Shows, TV Comedies   \n",
            "8804                         Comedies, Horror Movies   \n",
            "8805              Children & Family Movies, Comedies   \n",
            "8806  Dramas, International Movies, Music & Musicals   \n",
            "\n",
            "                                            description  \n",
            "8802  A political cartoonist, a crime reporter and a...  \n",
            "8803  While living alone in a spooky town, a young g...  \n",
            "8804  Looking to survive in a world taken over by zo...  \n",
            "8805  Dragged from civilian life, a former superhero...  \n",
            "8806  A scrappy but poor boy worms his way into a ty...  \n"
          ]
        }
      ],
      "source": [
        "print(\"Tail of the dataset:\")\n",
        "print(df.tail())"
      ]
    },
    {
      "cell_type": "code",
      "execution_count": null,
      "metadata": {
        "colab": {
          "base_uri": "https://localhost:8080/"
        },
        "id": "0uI-EwcD7bGN",
        "outputId": "806cde35-9f96-4e35-ac02-7c4bf8430a2a"
      },
      "outputs": [
        {
          "output_type": "stream",
          "name": "stdout",
          "text": [
            "Column Names and Data Types:\n",
            "show_id         object\n",
            "type            object\n",
            "title           object\n",
            "director        object\n",
            "cast            object\n",
            "country         object\n",
            "date_added      object\n",
            "release_year     int64\n",
            "rating          object\n",
            "duration        object\n",
            "listed_in       object\n",
            "description     object\n",
            "dtype: object\n"
          ]
        }
      ],
      "source": [
        "print(\"Column Names and Data Types:\")\n",
        "print(df.dtypes)"
      ]
    },
    {
      "cell_type": "code",
      "execution_count": null,
      "metadata": {
        "colab": {
          "base_uri": "https://localhost:8080/"
        },
        "id": "yzPvzX-47jRc",
        "outputId": "235e1e3e-cf29-4e97-b54b-caef2b569809"
      },
      "outputs": [
        {
          "output_type": "stream",
          "name": "stdout",
          "text": [
            "Shape of the dataset:\n",
            "(8807, 12)\n"
          ]
        }
      ],
      "source": [
        "print(\"Shape of the dataset:\")\n",
        "print(df.shape)"
      ]
    },
    {
      "cell_type": "code",
      "execution_count": null,
      "metadata": {
        "colab": {
          "base_uri": "https://localhost:8080/"
        },
        "id": "VcSIaUMB7qp4",
        "outputId": "fd7df2f7-b0a9-4351-baa4-8baa9074f301"
      },
      "outputs": [
        {
          "output_type": "stream",
          "name": "stdout",
          "text": [
            "       release_year\n",
            "count   8807.000000\n",
            "mean    2014.180198\n",
            "std        8.819312\n",
            "min     1925.000000\n",
            "25%     2013.000000\n",
            "50%     2017.000000\n",
            "75%     2019.000000\n",
            "max     2021.000000\n"
          ]
        }
      ],
      "source": [
        "print(df.describe())"
      ]
    },
    {
      "cell_type": "code",
      "execution_count": null,
      "metadata": {
        "colab": {
          "base_uri": "https://localhost:8080/"
        },
        "id": "T5HReSgv71GW",
        "outputId": "034509a2-ce65-4207-ffe1-3eb161c60d60"
      },
      "outputs": [
        {
          "output_type": "stream",
          "name": "stdout",
          "text": [
            "Missing values in each column:\n",
            "show_id            0\n",
            "type               0\n",
            "title              0\n",
            "director        2634\n",
            "cast             825\n",
            "country          831\n",
            "date_added        10\n",
            "release_year       0\n",
            "rating             4\n",
            "duration           3\n",
            "listed_in          0\n",
            "description        0\n",
            "dtype: int64\n"
          ]
        }
      ],
      "source": [
        "print(\"Missing values in each column:\")\n",
        "print(df.isnull().sum())"
      ]
    },
    {
      "cell_type": "code",
      "execution_count": null,
      "metadata": {
        "id": "Kf-UACHJ74iJ"
      },
      "outputs": [],
      "source": [
        "#CONTENT BASED FILTERING"
      ]
    },
    {
      "cell_type": "code",
      "execution_count": null,
      "metadata": {
        "id": "fKtIGFjE9RWm"
      },
      "outputs": [],
      "source": [
        "import pandas as pd\n",
        "from sklearn.feature_extraction.text import TfidfVectorizer\n",
        "from sklearn.metrics.pairwise import linear_kernel\n",
        "df['description'] = df['description'].fillna('')\n",
        "df['cast'] = df['cast'].fillna('')\n",
        "df['listed_in'] = df['listed_in'].fillna('')\n",
        "df['content'] = df['description'] + ' ' + df['cast'] + ' ' + df['listed_in']\n",
        "tfidf = TfidfVectorizer(stop_words='english')\n",
        "tfidf_matrix = tfidf.fit_transform(df['content'])\n",
        "cosine_sim = linear_kernel(tfidf_matrix, tfidf_matrix)"
      ]
    },
    {
      "cell_type": "code",
      "execution_count": null,
      "metadata": {
        "colab": {
          "base_uri": "https://localhost:8080/"
        },
        "id": "wejU1lnT9a3H",
        "outputId": "92927909-64da-4826-a9ba-ea198e623d59"
      },
      "outputs": [
        {
          "output_type": "stream",
          "name": "stdout",
          "text": [
            "8580                       Thor: Ragnarok\n",
            "7405     Mark Gatiss: A Study in Sherlock\n",
            "6325                        Black Panther\n",
            "6958                                  Her\n",
            "8696                            War Horse\n",
            "8395                    The Little Prince\n",
            "1406    Penguins of Madagascar: The Movie\n",
            "969                  August: Osage County\n",
            "7286                               Legion\n",
            "3667             3Below: Tales of Arcadia\n",
            "Name: title, dtype: object\n"
          ]
        }
      ],
      "source": [
        "indices = pd.Series(df.index, index=df['title']).drop_duplicates()\n",
        "def get_recommendations(title, cosine_sim=cosine_sim):\n",
        "    idx = indices[title]\n",
        "    sim_scores = list(enumerate(cosine_sim[idx]))\n",
        "    sim_scores = sorted(sim_scores, key=lambda x: x[1], reverse=True)\n",
        "    sim_scores = sim_scores[1:11]\n",
        "    title_indices = [i[0] for i in sim_scores]\n",
        "    return df['title'].iloc[title_indices]\n",
        "print(get_recommendations('Avengers: Infinity War'))"
      ]
    },
    {
      "cell_type": "code",
      "execution_count": null,
      "metadata": {
        "id": "6zxEsJJ-9fIx"
      },
      "outputs": [],
      "source": [
        "#COLLABORATIVE FILTERING"
      ]
    },
    {
      "cell_type": "code",
      "execution_count": null,
      "metadata": {
        "colab": {
          "base_uri": "https://localhost:8080/"
        },
        "id": "g7qdhbQe-iWz",
        "outputId": "b91e2808-3a6b-40d4-f3ce-ff13a2198f65"
      },
      "outputs": [
        {
          "output_type": "stream",
          "name": "stdout",
          "text": [
            "4028    Into the Badlands\n",
            "4024      Triple Frontier\n",
            "1608       3 Days to Kill\n",
            "1620           Peppermint\n",
            "1135               Takers\n",
            "1124         Maximum Risk\n",
            "7198    Kill Bill: Vol. 2\n",
            "8694                  War\n",
            "437            Cosmic Sin\n",
            "6427        Casino Royale\n",
            "Name: title, dtype: object\n"
          ]
        }
      ],
      "source": [
        "from sklearn.metrics.pairwise import cosine_similarity\n",
        "from sklearn.feature_extraction.text import CountVectorizer\n",
        "user_profiles = {\n",
        "    'User1': ['Action', 'Adventure'],\n",
        "    'User2': ['Drama', 'Romantic'],\n",
        "    'User3': ['Comedy', 'Family'],\n",
        "}\n",
        "df['genres_directors'] = df['listed_in'] + ' ' + df['director'].fillna('')\n",
        "count = CountVectorizer(stop_words='english')\n",
        "count_matrix = count.fit_transform(df['genres_directors'])\n",
        "cosine_sim = cosine_similarity(count_matrix, count_matrix)\n",
        "def get_user_recommendations(user_id, user_profiles, cosine_sim=cosine_sim):\n",
        "    user_query = ' '.join(user_profiles[user_id])\n",
        "    user_vec = count.transform([user_query])\n",
        "    sim_scores = cosine_similarity(user_vec, count_matrix)\n",
        "    sim_scores = sim_scores.flatten()\n",
        "    movie_indices = sim_scores.argsort()[-10:][::-1]\n",
        "    return df['title'].iloc[movie_indices]\n",
        "print(get_user_recommendations('User1', user_profiles))"
      ]
    },
    {
      "cell_type": "code",
      "execution_count": null,
      "metadata": {
        "id": "r2jtahGl-zVe"
      },
      "outputs": [],
      "source": [
        "#HYBRID FILTERING"
      ]
    },
    {
      "cell_type": "code",
      "execution_count": null,
      "metadata": {
        "id": "r41FSYDF_T-3"
      },
      "outputs": [],
      "source": [
        "import pandas as pd\n",
        "from sklearn.feature_extraction.text import TfidfVectorizer\n",
        "from sklearn.metrics.pairwise import linear_kernel\n",
        "df['description'] = df['description'].fillna('')\n",
        "df['cast'] = df['cast'].fillna('')\n",
        "df['listed_in'] = df['listed_in'].fillna('')\n",
        "df['content'] = df['description'] + ' ' + df['cast'] + ' ' + df['listed_in']\n",
        "tfidf = TfidfVectorizer(stop_words='english')\n",
        "tfidf_matrix = tfidf.fit_transform(df['content'])\n",
        "cosine_sim_content = linear_kernel(tfidf_matrix, tfidf_matrix)"
      ]
    },
    {
      "cell_type": "code",
      "execution_count": null,
      "metadata": {
        "id": "tX56FO3k_WAQ"
      },
      "outputs": [],
      "source": [
        "from sklearn.feature_extraction.text import CountVectorizer\n",
        "from sklearn.metrics.pairwise import cosine_similarity\n",
        "df['genres_directors'] = df['listed_in'] + ' ' + df['director'].fillna('')\n",
        "count = CountVectorizer(stop_words='english')\n",
        "count_matrix = count.fit_transform(df['genres_directors'])\n",
        "cosine_sim_collab = cosine_similarity(count_matrix, count_matrix)"
      ]
    },
    {
      "cell_type": "code",
      "execution_count": null,
      "metadata": {
        "colab": {
          "base_uri": "https://localhost:8080/"
        },
        "id": "O8IFch_N_d-1",
        "outputId": "519bd7a6-ad64-4f2d-c59a-64df7eb4f6b7"
      },
      "outputs": [
        {
          "output_type": "stream",
          "name": "stdout",
          "text": [
            "7326    Lock, Stock and Two Smoking Barrels\n",
            "176                        The Golden Child\n",
            "566                        Charlie's Angels\n",
            "6447        Charlie's Angels: Full Throttle\n",
            "930                                Due Date\n",
            "975        Shadow and Bone - The Afterparty\n",
            "8032                              Skiptrace\n",
            "1626                  The Happytime Murders\n",
            "6343                            Blue Streak\n",
            "8284                   The Dukes of Hazzard\n",
            "Name: title, dtype: object\n"
          ]
        }
      ],
      "source": [
        "def hybrid_recommendations(title, content_sim=cosine_sim_content, collab_sim=cosine_sim_collab, alpha=0.5):\n",
        "    idx = indices[title]\n",
        "    content_scores = list(enumerate(content_sim[idx]))\n",
        "    collab_scores = list(enumerate(collab_sim[idx]))\n",
        "    combined_scores = [(i, alpha * content_scores[i][1] + (1 - alpha) * collab_scores[i][1]) for i in range(len(df))]\n",
        "    combined_scores = sorted(combined_scores, key=lambda x: x[1], reverse=True)\n",
        "    combined_scores = combined_scores[1:11]  # Exclude the first item (itself)\n",
        "    title_indices = [i[0] for i in combined_scores]\n",
        "    return df['title'].iloc[title_indices]\n",
        "indices = pd.Series(df.index, index=df['title']).drop_duplicates()\n",
        "print(hybrid_recommendations('Sherlock Holmes'))"
      ]
    },
    {
      "cell_type": "code",
      "execution_count": null,
      "metadata": {
        "id": "gZvweREl_lmP"
      },
      "outputs": [],
      "source": [
        "df['description'] = df['description'].fillna('')\n",
        "df['cast'] = df['cast'].fillna('')\n",
        "df['listed_in'] = df['listed_in'].fillna('')\n",
        "df['director'] = df['director'].fillna('')"
      ]
    },
    {
      "cell_type": "code",
      "execution_count": null,
      "metadata": {
        "id": "vnzLO5r2DdqP"
      },
      "outputs": [],
      "source": [
        "import pandas as pd\n",
        "from sklearn.model_selection import train_test_split\n",
        "df = pd.read_csv('netflix_titles.csv')\n",
        "df_ratings = df[['show_id', 'rating']].dropna()\n",
        "df_ratings['item_id'] = df_ratings['show_id'].astype('category').cat.codes\n",
        "df_ratings['user_id'] = df_ratings.groupby('show_id').ngroup()\n",
        "X = df_ratings[['user_id', 'item_id']]\n",
        "y = df_ratings['rating']\n",
        "X_train, X_test, y_train, y_test = train_test_split(X, y, test_size=0.2, random_state=42)"
      ]
    },
    {
      "cell_type": "code",
      "execution_count": null,
      "metadata": {
        "id": "O3S0hqobDfFF"
      },
      "outputs": [],
      "source": [
        "rating_mapping = {\n",
        "    'TV-MA': 1,\n",
        "    'TV-14': 2,\n",
        "    'TV-PG': 3,\n",
        "    'TV-G': 4,\n",
        "    'NR': 5\n",
        "}\n",
        "df['rating_numeric'] = df['rating'].map(rating_mapping)\n",
        "df_ratings = df[['show_id', 'rating_numeric']].dropna()\n",
        "df_ratings['item_id'] = df_ratings['show_id'].astype('category').cat.codes\n",
        "df_ratings['user_id'] = df_ratings.groupby('show_id').ngroup()\n",
        "X = df_ratings[['user_id', 'item_id']]\n",
        "y = df_ratings['rating_numeric']\n",
        "from sklearn.model_selection import train_test_split\n",
        "X_train, X_test, y_train, y_test = train_test_split(X, y, test_size=0.2, random_state=42)"
      ]
    },
    {
      "cell_type": "code",
      "source": [
        "from sklearn.tree import DecisionTreeRegressor\n",
        "from sklearn.metrics import mean_squared_error, mean_absolute_error, r2_score\n",
        "import numpy as np\n",
        "model = DecisionTreeRegressor()\n",
        "model.fit(X_train, y_train)\n",
        "y_pred = model.predict(X_test)\n",
        "mse = mean_squared_error(y_test, y_pred)\n",
        "mae = mean_absolute_error(y_test, y_pred)\n",
        "rmse = np.sqrt(mse)\n",
        "r2 = r2_score(y_test, y_pred)\n",
        "print(f\"Decision Tree Regressor MSE: {mse}\")\n",
        "print(f\"Decision Tree Regressor MAE: {mae}\")\n",
        "print(f\"Decision Tree Regressor RMSE: {rmse}\")\n",
        "print(f\"Decision Tree Regressor R-squared: {r2}\")\n"
      ],
      "metadata": {
        "colab": {
          "base_uri": "https://localhost:8080/"
        },
        "id": "87HqPrxR3ugW",
        "outputId": "890f99bf-df95-4a2d-d516-7adcce7e54a3"
      },
      "execution_count": null,
      "outputs": [
        {
          "output_type": "stream",
          "name": "stdout",
          "text": [
            "Decision Tree Regressor MSE: 1.4280245022970903\n",
            "Decision Tree Regressor MAE: 0.821592649310873\n",
            "Decision Tree Regressor RMSE: 1.1949997917560866\n",
            "Decision Tree Regressor R-squared: -0.7464788126447963\n"
          ]
        }
      ]
    },
    {
      "cell_type": "code",
      "execution_count": null,
      "metadata": {
        "colab": {
          "base_uri": "https://localhost:8080/"
        },
        "id": "Nzyzvj6mDwX1",
        "outputId": "db94000d-48e7-47ea-f43b-dc9f91a14edb"
      },
      "outputs": [
        {
          "output_type": "stream",
          "name": "stdout",
          "text": [
            "Random Forest Regressor MSE: 1.0698126339969372\n"
          ]
        }
      ],
      "source": [
        "from sklearn.ensemble import RandomForestRegressor\n",
        "from sklearn.metrics import mean_squared_error\n",
        "rf_model = RandomForestRegressor(n_estimators=100, random_state=42)\n",
        "rf_model.fit(X_train, y_train)\n",
        "rf_y_pred = rf_model.predict(X_test)\n",
        "rf_mse = mean_squared_error(y_test, rf_y_pred)\n",
        "print(f\"Random Forest Regressor MSE: {rf_mse}\")"
      ]
    },
    {
      "cell_type": "code",
      "execution_count": null,
      "metadata": {
        "colab": {
          "base_uri": "https://localhost:8080/"
        },
        "id": "ZOvTHl8eF_bF",
        "outputId": "1e3c0737-da3a-4188-9b42-dbc9dd08d297"
      },
      "outputs": [
        {
          "output_type": "stream",
          "name": "stdout",
          "text": [
            "K-Nearest Neighbors Regressor MSE: 0.9071362940275651\n"
          ]
        }
      ],
      "source": [
        "from sklearn.neighbors import KNeighborsRegressor\n",
        "from sklearn.metrics import mean_squared_error\n",
        "knn_model = KNeighborsRegressor(n_neighbors=5)\n",
        "knn_model.fit(X_train, y_train)\n",
        "knn_y_pred = knn_model.predict(X_test)\n",
        "knn_mse = mean_squared_error(y_test, knn_y_pred)\n",
        "print(f\"K-Nearest Neighbors Regressor MSE: {knn_mse}\")"
      ]
    },
    {
      "cell_type": "code",
      "execution_count": null,
      "metadata": {
        "colab": {
          "base_uri": "https://localhost:8080/"
        },
        "id": "_EkX5pnwGip8",
        "outputId": "75a815eb-250b-46f2-ffe9-e1e29abc25db"
      },
      "outputs": [
        {
          "output_type": "stream",
          "name": "stdout",
          "text": [
            "Neural Network Regressor MSE: 1.1177458256175132\n"
          ]
        }
      ],
      "source": [
        "from sklearn.neural_network import MLPRegressor\n",
        "from sklearn.metrics import mean_squared_error\n",
        "mlp_model = MLPRegressor(hidden_layer_sizes=(10,), max_iter=1000, random_state=42)\n",
        "mlp_model.fit(X_train, y_train)\n",
        "mlp_y_pred = mlp_model.predict(X_test)\n",
        "mlp_mse = mean_squared_error(y_test, mlp_y_pred)\n",
        "print(f\"Neural Network Regressor MSE: {mlp_mse}\")"
      ]
    },
    {
      "cell_type": "code",
      "execution_count": null,
      "metadata": {
        "colab": {
          "base_uri": "https://localhost:8080/"
        },
        "id": "MZCYAWNrGnxA",
        "outputId": "d97e4ad7-6425-428a-969b-bf3d841a2c50"
      },
      "outputs": [
        {
          "output_type": "stream",
          "name": "stdout",
          "text": [
            "Gradient Boosting Regressor MSE: 0.7868381955375192\n"
          ]
        }
      ],
      "source": [
        "from sklearn.ensemble import GradientBoostingRegressor\n",
        "from sklearn.metrics import mean_squared_error\n",
        "gbr_model = GradientBoostingRegressor(n_estimators=100, random_state=42)\n",
        "gbr_model.fit(X_train, y_train)\n",
        "gbr_y_pred = gbr_model.predict(X_test)\n",
        "gbr_mse = mean_squared_error(y_test, gbr_y_pred)\n",
        "print(f\"Gradient Boosting Regressor MSE: {gbr_mse}\")"
      ]
    },
    {
      "cell_type": "code",
      "execution_count": null,
      "metadata": {
        "colab": {
          "base_uri": "https://localhost:8080/"
        },
        "id": "IiL-O0wrGqyL",
        "outputId": "ab4ec46f-831c-4559-f393-59cd735132ba"
      },
      "outputs": [
        {
          "output_type": "stream",
          "name": "stdout",
          "text": [
            "Recommended items: [101, 103]\n"
          ]
        }
      ],
      "source": [
        "import pandas as pd\n",
        "from datetime import datetime\n",
        "import numpy as np\n",
        "data = {\n",
        "    'user_id': [1, 2, 1, 3],\n",
        "    'item_id': [101, 102, 103, 101],\n",
        "    'rating': [5, 4, 3, 5],\n",
        "    'timestamp': [datetime.now(), datetime.now(), datetime.now(), datetime.now()],\n",
        "    'location': ['New York', 'Los Angeles', 'New York', 'Chicago'],\n",
        "    'device': ['mobile', 'desktop', 'mobile', 'tablet']\n",
        "}\n",
        "df = pd.DataFrame(data)\n",
        "def recommend_items(user_id, current_time, location, device):\n",
        "    user_data = df[(df['user_id'] == user_id) &\n",
        "                    (df['timestamp'] <= current_time) &\n",
        "                    (df['location'] == location) &\n",
        "                    (df['device'] == device)]\n",
        "    recommendations = user_data.groupby('item_id').agg({'rating': 'mean'}).reset_index()\n",
        "    recommendations = recommendations.sort_values(by='rating', ascending=False)\n",
        "    return recommendations['item_id'].tolist()\n",
        "user_id = 1\n",
        "current_time = datetime.now()\n",
        "location = 'New York'\n",
        "device = 'mobile'\n",
        "print(f\"Recommended items: {recommend_items(user_id, current_time, location, device)}\")\n"
      ]
    },
    {
      "cell_type": "code",
      "execution_count": null,
      "metadata": {
        "id": "JBLgStPnDfi-"
      },
      "outputs": [],
      "source": [
        "#SECURITY AND PRIVACY"
      ]
    },
    {
      "cell_type": "code",
      "execution_count": null,
      "metadata": {
        "id": "72S4RdkrDjGC"
      },
      "outputs": [],
      "source": [
        "from cryptography.fernet import Fernet\n",
        "\n",
        "# Generate a key for encryption\n",
        "key = Fernet.generate_key()\n",
        "cipher_suite = Fernet(key)\n",
        "\n",
        "# Encrypt the user_id, location, and device columns\n",
        "df['encrypted_user_id'] = df['user_id'].apply(lambda x: cipher_suite.encrypt(str(x).encode('utf-8')))\n",
        "df['encrypted_location'] = df['location'].apply(lambda x: cipher_suite.encrypt(str(x).encode('utf-8')))\n",
        "df['encrypted_device'] = df['device'].apply(lambda x: cipher_suite.encrypt(str(x).encode('utf-8')))"
      ]
    },
    {
      "cell_type": "code",
      "execution_count": null,
      "metadata": {
        "id": "xujy7yRAEU1Q"
      },
      "outputs": [],
      "source": [
        "import hashlib\n",
        "\n",
        "# Hash the user_id to anonymize it\n",
        "df['hashed_user_id'] = df['user_id'].apply(lambda x: hashlib.sha256(str(x).encode('utf-8')).hexdigest())"
      ]
    },
    {
      "cell_type": "code",
      "execution_count": null,
      "metadata": {
        "id": "qeFmVTabEX57"
      },
      "outputs": [],
      "source": [
        "df = df.drop(columns=['user_id', 'location', 'device'])"
      ]
    },
    {
      "cell_type": "code",
      "execution_count": null,
      "metadata": {
        "colab": {
          "base_uri": "https://localhost:8080/"
        },
        "id": "yukgN2r4Edfy",
        "outputId": "3b61a020-13d1-4a0b-ac54-d0d0e2186063"
      },
      "outputs": [
        {
          "output_type": "stream",
          "name": "stdout",
          "text": [
            "   item_id  rating                  timestamp  \\\n",
            "0      101       5 2024-08-23 15:30:50.081306   \n",
            "1      102       4 2024-08-23 15:30:50.081309   \n",
            "2      103       3 2024-08-23 15:30:50.081310   \n",
            "3      101       5 2024-08-23 15:30:50.081310   \n",
            "\n",
            "                                   encrypted_user_id  \\\n",
            "0  b'gAAAAABmyKsqRN-mzlXEhhcVzPtJVKfgBLgtJ8e16cS6...   \n",
            "1  b'gAAAAABmyKsqktYUz-M2KBEhbhv4t27wvcj4_eDcte_A...   \n",
            "2  b'gAAAAABmyKsqWLZzhFL4mXqPx0WJMLXZXmZwXJDrLWp8...   \n",
            "3  b'gAAAAABmyKsqsvtyorpECUviNhOkA0OcOiu6tPfZ8mZ5...   \n",
            "\n",
            "                                  encrypted_location  \\\n",
            "0  b'gAAAAABmyKsqJuhM_t3YK44ZnqLvZAnOYk9E7Der-zoI...   \n",
            "1  b'gAAAAABmyKsq5z9X9LB4rksgIPJWPryhG9bjqPApepnQ...   \n",
            "2  b'gAAAAABmyKsqz58fnP2tXPbcStoV2Wz_OIlzqzjVk69q...   \n",
            "3  b'gAAAAABmyKsqNKx-4-UHFVTgYz44wJbvPFNHrPrnjSdW...   \n",
            "\n",
            "                                    encrypted_device  \\\n",
            "0  b'gAAAAABmyKsqrsNABGgf7ZsY9z4X66rY8okE96JlTw7R...   \n",
            "1  b'gAAAAABmyKsqIq-qje_xKZ8q7u4j4GTclGmYZazb9Tfq...   \n",
            "2  b'gAAAAABmyKsqiGhcYIKeHVUXLuefCHOxeJqlgC1QLPZR...   \n",
            "3  b'gAAAAABmyKsqmPua4rkmgZTP5_avNGsBEM1LYfHSch1E...   \n",
            "\n",
            "                                      hashed_user_id  \n",
            "0  6b86b273ff34fce19d6b804eff5a3f5747ada4eaa22f1d...  \n",
            "1  d4735e3a265e16eee03f59718b9b5d03019c07d8b6c51f...  \n",
            "2  6b86b273ff34fce19d6b804eff5a3f5747ada4eaa22f1d...  \n",
            "3  4e07408562bedb8b60ce05c1decfe3ad16b72230967de0...  \n"
          ]
        }
      ],
      "source": [
        "#After encryption this is how it looks because its encrypted\n",
        "print(df.head())"
      ]
    },
    {
      "cell_type": "code",
      "execution_count": null,
      "metadata": {
        "colab": {
          "base_uri": "https://localhost:8080/"
        },
        "id": "hr30-yBOE9_R",
        "outputId": "d5159ca7-d2ea-4ebe-dc36-5b25f95b3f6f"
      },
      "outputs": [
        {
          "output_type": "stream",
          "name": "stdout",
          "text": [
            "admin has permission to perform read.\n",
            "admin has permission to perform write.\n",
            "user has permission to perform read.\n",
            "user does NOT have permission to perform write.\n"
          ]
        }
      ],
      "source": [
        "# Example roles\n",
        "roles = {\n",
        "    'admin': {'access_level': 'full'},\n",
        "    'user': {'access_level': 'read_only'}\n",
        "}\n",
        "\n",
        "# Function to check access level\n",
        "def check_access(role, operation):\n",
        "    if roles[role]['access_level'] == 'full' or (roles[role]['access_level'] == 'read_only' and operation == 'read'):\n",
        "        print(f\"{role} has permission to perform {operation}.\")\n",
        "    else:\n",
        "        print(f\"{role} does NOT have permission to perform {operation}.\")\n",
        "\n",
        "# Example usage\n",
        "check_access('admin', 'read')\n",
        "check_access('admin', 'write')\n",
        "check_access('user', 'read')\n",
        "check_access('user', 'write')  # This should be denied\n"
      ]
    },
    {
      "cell_type": "code",
      "execution_count": null,
      "metadata": {
        "colab": {
          "base_uri": "https://localhost:8080/"
        },
        "id": "1cdFZbIrEqbH",
        "outputId": "36954ee5-4b58-476b-f6df-9b1a08238512"
      },
      "outputs": [
        {
          "output_type": "stream",
          "name": "stdout",
          "text": [
            "user has permission to perform read.\n",
            "Operation allowed.\n"
          ]
        }
      ],
      "source": [
        "# Implement access control checks before any operation\n",
        "role = 'user'  # Example role, this could come from a user session\n",
        "operation = 'read'  # Could be 'read', 'write', etc.\n",
        "\n",
        "# Check access\n",
        "check_access(role, operation)\n",
        "\n",
        "# If the role has access, continue with operations; otherwise, deny access\n",
        "if roles[role]['access_level'] == 'full' or (roles[role]['access_level'] == 'read_only' and operation == 'read'):\n",
        "    print(\"Operation allowed.\")\n",
        "    # Continue with secure operations here\n",
        "else:\n",
        "    print(\"Operation denied due to insufficient permissions.\")"
      ]
    },
    {
      "cell_type": "code",
      "execution_count": null,
      "metadata": {
        "id": "q2-2y_a9yazi"
      },
      "outputs": [],
      "source": [
        "#REVIEW-1 FINISHED"
      ]
    },
    {
      "cell_type": "code",
      "execution_count": null,
      "metadata": {
        "colab": {
          "base_uri": "https://localhost:8080/"
        },
        "id": "bZkwqkf8Fx4j",
        "outputId": "d27a1e6b-48d7-4bb8-f0dc-bfb23383c632"
      },
      "outputs": [
        {
          "output_type": "stream",
          "name": "stdout",
          "text": [
            "Collecting flask_login\n",
            "  Downloading Flask_Login-0.6.3-py3-none-any.whl.metadata (5.8 kB)\n",
            "Requirement already satisfied: Flask>=1.0.4 in /usr/local/lib/python3.10/dist-packages (from flask_login) (2.2.5)\n",
            "Requirement already satisfied: Werkzeug>=1.0.1 in /usr/local/lib/python3.10/dist-packages (from flask_login) (3.0.3)\n",
            "Requirement already satisfied: Jinja2>=3.0 in /usr/local/lib/python3.10/dist-packages (from Flask>=1.0.4->flask_login) (3.1.4)\n",
            "Requirement already satisfied: itsdangerous>=2.0 in /usr/local/lib/python3.10/dist-packages (from Flask>=1.0.4->flask_login) (2.2.0)\n",
            "Requirement already satisfied: click>=8.0 in /usr/local/lib/python3.10/dist-packages (from Flask>=1.0.4->flask_login) (8.1.7)\n",
            "Requirement already satisfied: MarkupSafe>=2.1.1 in /usr/local/lib/python3.10/dist-packages (from Werkzeug>=1.0.1->flask_login) (2.1.5)\n",
            "Downloading Flask_Login-0.6.3-py3-none-any.whl (17 kB)\n",
            "Installing collected packages: flask_login\n",
            "Successfully installed flask_login-0.6.3\n"
          ]
        }
      ],
      "source": [
        "pip install flask_login"
      ]
    },
    {
      "cell_type": "code",
      "execution_count": null,
      "metadata": {
        "colab": {
          "base_uri": "https://localhost:8080/"
        },
        "id": "4sxWyeeOEi3U",
        "outputId": "65f0f486-3ff1-4bca-9645-fc3aff4feb88"
      },
      "outputs": [
        {
          "output_type": "stream",
          "name": "stdout",
          "text": [
            " * Serving Flask app '__main__'\n",
            " * Debug mode: off\n"
          ]
        },
        {
          "output_type": "stream",
          "name": "stderr",
          "text": [
            "INFO:werkzeug:\u001b[31m\u001b[1mWARNING: This is a development server. Do not use it in a production deployment. Use a production WSGI server instead.\u001b[0m\n",
            " * Running on http://127.0.0.1:5000\n",
            "INFO:werkzeug:\u001b[33mPress CTRL+C to quit\u001b[0m\n"
          ]
        }
      ],
      "source": [
        "from flask import Flask, redirect, url_for, request\n",
        "from flask_login import LoginManager, UserMixin, login_required, login_user, logout_user\n",
        "\n",
        "app = Flask(__name__)\n",
        "app.secret_key = 'your_secret_key'\n",
        "login_manager = LoginManager()\n",
        "login_manager.init_app(app)\n",
        "\n",
        "class User(UserMixin):\n",
        "    def __init__(self, id):\n",
        "        self.id = id\n",
        "\n",
        "# Example user store\n",
        "users = {'user1': User(1)}\n",
        "\n",
        "@login_manager.user_loader\n",
        "def load_user(user_id):\n",
        "    return users.get(user_id)\n",
        "\n",
        "@app.route('/login', methods=['GET', 'POST'])\n",
        "def login():\n",
        "    if request.method == 'POST':\n",
        "        user_id = request.form['user_id']\n",
        "        user = users.get(user_id)\n",
        "        if user:\n",
        "            login_user(user)\n",
        "            return redirect(url_for('dashboard'))\n",
        "    return 'Login Page'\n",
        "\n",
        "@app.route('/dashboard')\n",
        "@login_required\n",
        "def dashboard():\n",
        "    return 'This is the dashboard. You are logged in.'\n",
        "\n",
        "@app.route('/logout')\n",
        "@login_required\n",
        "def logout():\n",
        "    logout_user()\n",
        "    return redirect(url_for('login'))\n",
        "\n",
        "if __name__ == '__main__':\n",
        "    app.run()\n"
      ]
    },
    {
      "cell_type": "code",
      "execution_count": null,
      "metadata": {
        "id": "mazI7811FXgR"
      },
      "outputs": [],
      "source": [
        "import logging\n",
        "\n",
        "# Set up logging\n",
        "logging.basicConfig(filename='access.log', level=logging.INFO)\n",
        "\n",
        "def access_sensitive_data(user_id):\n",
        "    # Log the access attempt\n",
        "    logging.info(f'User {user_id} accessed sensitive data')\n",
        "\n",
        "# Example usage\n",
        "access_sensitive_data('user1')\n"
      ]
    },
    {
      "cell_type": "code",
      "execution_count": null,
      "metadata": {
        "id": "5J2GO1U-F5K0",
        "colab": {
          "base_uri": "https://localhost:8080/"
        },
        "outputId": "fd648e43-aebb-4176-dbab-9ec058082591"
      },
      "outputs": [
        {
          "output_type": "stream",
          "name": "stderr",
          "text": [
            "<ipython-input-40-23d63c2bcfa7>:4: FutureWarning: DataFrame.applymap has been deprecated. Use DataFrame.map instead.\n",
            "  encrypted_data = df.applymap(lambda x: cipher_suite.encrypt(str(x).encode('utf-8')))\n"
          ]
        }
      ],
      "source": [
        "import base64\n",
        "\n",
        "# Encrypt the entire DataFrame before storage\n",
        "encrypted_data = df.applymap(lambda x: cipher_suite.encrypt(str(x).encode('utf-8')))\n",
        "\n",
        "# Save to a file (e.g., CSV)\n",
        "encrypted_data.to_csv('encrypted_data.csv', index=False)\n",
        "\n",
        "# Optionally, encode the encryption key as well\n",
        "encoded_key = base64.urlsafe_b64encode(key).decode('utf-8')\n",
        "with open('encryption_key.txt', 'w') as f:\n",
        "    f.write(encoded_key)"
      ]
    },
    {
      "cell_type": "code",
      "execution_count": null,
      "metadata": {
        "id": "y3NWysNXGY7K"
      },
      "outputs": [],
      "source": [
        "from pyspark.sql import SparkSession\n",
        "\n",
        "# Create a Spark session\n",
        "spark = SparkSession.builder \\\n",
        "    .appName(\"Netflix Recommendation System\") \\\n",
        "    .config(\"spark.some.config.option\", \"some-value\") \\\n",
        "    .getOrCreate()\n",
        "\n",
        "# Load dataset\n",
        "file_path = \"C:/Users/ravii/Downloads/netflix_titles.csv\"\n",
        "df = spark.read.csv(file_path, header=True, inferSchema=True)\n",
        "\n",
        "# Display schema to ensure correct loading\n",
        "df.printSchema()\n",
        "\n",
        "# Perform some basic data processing\n",
        "df_filtered = df.dropna()  # Drop rows with missing values\n",
        "df_filtered = df_filtered.filter(df['rating'].isNotNull())  # Keep rows with a valid rating\n",
        "\n",
        "# Show the first few rows of the processed DataFrame\n",
        "df_filtered.show()\n",
        "\n",
        "# Save processed data to a new file if needed\n",
        "df_filtered.write.csv(\"processed_netflix_titles.csv\", header=True)\n"
      ]
    }
  ],
  "metadata": {
    "colab": {
      "provenance": []
    },
    "kernelspec": {
      "display_name": "Python 3",
      "name": "python3"
    },
    "language_info": {
      "name": "python"
    }
  },
  "nbformat": 4,
  "nbformat_minor": 0
}